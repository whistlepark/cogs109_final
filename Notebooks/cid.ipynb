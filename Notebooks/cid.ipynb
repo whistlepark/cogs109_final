{
 "cells": [
  {
   "cell_type": "code",
   "execution_count": 1,
   "id": "disciplinary-therapist",
   "metadata": {},
   "outputs": [],
   "source": [
    "import pandas as pd\n",
    "import numpy as np"
   ]
  },
  {
   "cell_type": "code",
   "execution_count": 2,
   "id": "continued-georgia",
   "metadata": {},
   "outputs": [],
   "source": [
    "df = pd.read_csv('./city_temperature.csv',low_memory=False)"
   ]
  },
  {
   "cell_type": "code",
   "execution_count": 3,
   "id": "yellow-advance",
   "metadata": {},
   "outputs": [],
   "source": [
    "df['Date'] = pd.to_datetime(df.loc[:,'Month':'Year'],dayfirst=True,errors='coerce')"
   ]
  },
  {
   "cell_type": "code",
   "execution_count": 4,
   "id": "alike-carolina",
   "metadata": {},
   "outputs": [
    {
     "data": {
      "text/html": [
       "<div>\n",
       "<style scoped>\n",
       "    .dataframe tbody tr th:only-of-type {\n",
       "        vertical-align: middle;\n",
       "    }\n",
       "\n",
       "    .dataframe tbody tr th {\n",
       "        vertical-align: top;\n",
       "    }\n",
       "\n",
       "    .dataframe thead th {\n",
       "        text-align: right;\n",
       "    }\n",
       "</style>\n",
       "<table border=\"1\" class=\"dataframe\">\n",
       "  <thead>\n",
       "    <tr style=\"text-align: right;\">\n",
       "      <th></th>\n",
       "      <th>Region</th>\n",
       "      <th>Country</th>\n",
       "      <th>State</th>\n",
       "      <th>City</th>\n",
       "      <th>Month</th>\n",
       "      <th>Day</th>\n",
       "      <th>Year</th>\n",
       "      <th>AvgTemperature</th>\n",
       "      <th>Date</th>\n",
       "    </tr>\n",
       "  </thead>\n",
       "  <tbody>\n",
       "    <tr>\n",
       "      <th>0</th>\n",
       "      <td>Africa</td>\n",
       "      <td>Algeria</td>\n",
       "      <td>NaN</td>\n",
       "      <td>Algiers</td>\n",
       "      <td>1</td>\n",
       "      <td>1</td>\n",
       "      <td>1995</td>\n",
       "      <td>64.2</td>\n",
       "      <td>1995-01-01</td>\n",
       "    </tr>\n",
       "    <tr>\n",
       "      <th>1</th>\n",
       "      <td>Africa</td>\n",
       "      <td>Algeria</td>\n",
       "      <td>NaN</td>\n",
       "      <td>Algiers</td>\n",
       "      <td>1</td>\n",
       "      <td>2</td>\n",
       "      <td>1995</td>\n",
       "      <td>49.4</td>\n",
       "      <td>1995-01-02</td>\n",
       "    </tr>\n",
       "    <tr>\n",
       "      <th>2</th>\n",
       "      <td>Africa</td>\n",
       "      <td>Algeria</td>\n",
       "      <td>NaN</td>\n",
       "      <td>Algiers</td>\n",
       "      <td>1</td>\n",
       "      <td>3</td>\n",
       "      <td>1995</td>\n",
       "      <td>48.8</td>\n",
       "      <td>1995-01-03</td>\n",
       "    </tr>\n",
       "    <tr>\n",
       "      <th>3</th>\n",
       "      <td>Africa</td>\n",
       "      <td>Algeria</td>\n",
       "      <td>NaN</td>\n",
       "      <td>Algiers</td>\n",
       "      <td>1</td>\n",
       "      <td>4</td>\n",
       "      <td>1995</td>\n",
       "      <td>46.4</td>\n",
       "      <td>1995-01-04</td>\n",
       "    </tr>\n",
       "    <tr>\n",
       "      <th>4</th>\n",
       "      <td>Africa</td>\n",
       "      <td>Algeria</td>\n",
       "      <td>NaN</td>\n",
       "      <td>Algiers</td>\n",
       "      <td>1</td>\n",
       "      <td>5</td>\n",
       "      <td>1995</td>\n",
       "      <td>47.9</td>\n",
       "      <td>1995-01-05</td>\n",
       "    </tr>\n",
       "  </tbody>\n",
       "</table>\n",
       "</div>"
      ],
      "text/plain": [
       "   Region  Country State     City  Month  Day  Year  AvgTemperature       Date\n",
       "0  Africa  Algeria   NaN  Algiers      1    1  1995            64.2 1995-01-01\n",
       "1  Africa  Algeria   NaN  Algiers      1    2  1995            49.4 1995-01-02\n",
       "2  Africa  Algeria   NaN  Algiers      1    3  1995            48.8 1995-01-03\n",
       "3  Africa  Algeria   NaN  Algiers      1    4  1995            46.4 1995-01-04\n",
       "4  Africa  Algeria   NaN  Algiers      1    5  1995            47.9 1995-01-05"
      ]
     },
     "execution_count": 4,
     "metadata": {},
     "output_type": "execute_result"
    }
   ],
   "source": [
    "df.head()"
   ]
  },
  {
   "cell_type": "markdown",
   "id": "little-demand",
   "metadata": {},
   "source": [
    "#### Remove all the data points that are not within the hottest and coldest temperatures recordered on Earth."
   ]
  },
  {
   "cell_type": "code",
   "execution_count": 6,
   "id": "opened-staff",
   "metadata": {},
   "outputs": [
    {
     "data": {
      "text/plain": [
       "0          False\n",
       "1          False\n",
       "2          False\n",
       "3          False\n",
       "4          False\n",
       "           ...  \n",
       "2906322    False\n",
       "2906323    False\n",
       "2906324    False\n",
       "2906325    False\n",
       "2906326    False\n",
       "Name: AvgTemperature, Length: 2906327, dtype: bool"
      ]
     },
     "execution_count": 6,
     "metadata": {},
     "output_type": "execute_result"
    }
   ],
   "source": [
    "df['AvgTemperature'] == -99.0"
   ]
  },
  {
   "cell_type": "markdown",
   "id": "wireless-display",
   "metadata": {},
   "source": [
    "#### This are the values that are being removed from the original dataset."
   ]
  },
  {
   "cell_type": "code",
   "execution_count": null,
   "id": "demonstrated-review",
   "metadata": {},
   "outputs": [],
   "source": [
    "df[x.ne(-99)].Country"
   ]
  },
  {
   "cell_type": "code",
   "execution_count": null,
   "id": "permanent-savannah",
   "metadata": {},
   "outputs": [],
   "source": [
    "DF = df\n",
    "DF[rmv_outliers] = np.nan\n",
    "DF.head()"
   ]
  },
  {
   "cell_type": "code",
   "execution_count": null,
   "id": "colored-thomas",
   "metadata": {},
   "outputs": [],
   "source": [
    "for aRegion in DF['Region'].unique():\n",
    "    print(aRegion, DF[ DF['Region'] == aRegion ].describe()['AvgTemperature'].loc[['count','mean']],'\\n',sep='\\n')"
   ]
  },
  {
   "cell_type": "markdown",
   "id": "growing-sacramento",
   "metadata": {},
   "source": [
    "#### Grab all the counts of each country"
   ]
  },
  {
   "cell_type": "code",
   "execution_count": null,
   "id": "intelligent-tournament",
   "metadata": {},
   "outputs": [],
   "source": [
    "numOfPoints = pd.Series([DF[DF['Country'] == aCountry].describe()['AvgTemperature'].loc['count'] for aCountry in DF['Country'].unique()]\n",
    "                        ,index=DF['Country'].unique())"
   ]
  },
  {
   "cell_type": "code",
   "execution_count": null,
   "id": "empirical-small",
   "metadata": {},
   "outputs": [],
   "source": [
    "subsetCountries = numOfPoints.nlargest(4)"
   ]
  },
  {
   "cell_type": "code",
   "execution_count": null,
   "id": "complete-reliance",
   "metadata": {},
   "outputs": [],
   "source": [
    "countries = list(subsetCountries.index)"
   ]
  },
  {
   "cell_type": "code",
   "execution_count": null,
   "id": "presidential-maple",
   "metadata": {},
   "outputs": [],
   "source": [
    "dataset = DF.loc[DF['Country'].isin(countries)]"
   ]
  },
  {
   "cell_type": "code",
   "execution_count": null,
   "id": "proprietary-lying",
   "metadata": {},
   "outputs": [],
   "source": [
    "dataset.describe()"
   ]
  },
  {
   "cell_type": "code",
   "execution_count": null,
   "id": "medical-providence",
   "metadata": {},
   "outputs": [],
   "source": [
    "from statsmodels.formula.api import ols"
   ]
  },
  {
   "cell_type": "code",
   "execution_count": null,
   "id": "pleasant-communist",
   "metadata": {},
   "outputs": [],
   "source": [
    "C0 = dataset.loc[dataset['Country'] == 'US']\n",
    "model = ols('AvgTemperature~1+Month',data=C0).fit(disp=0)"
   ]
  },
  {
   "cell_type": "code",
   "execution_count": null,
   "id": "comfortable-courtesy",
   "metadata": {},
   "outputs": [],
   "source": [
    "model.summary()"
   ]
  },
  {
   "cell_type": "code",
   "execution_count": null,
   "id": "polyphonic-estimate",
   "metadata": {},
   "outputs": [],
   "source": [
    "model.pvalues"
   ]
  },
  {
   "cell_type": "code",
   "execution_count": null,
   "id": "phantom-collectible",
   "metadata": {},
   "outputs": [],
   "source": []
  }
 ],
 "metadata": {
  "kernelspec": {
   "display_name": "Python 3",
   "language": "python",
   "name": "python3"
  },
  "language_info": {
   "codemirror_mode": {
    "name": "ipython",
    "version": 3
   },
   "file_extension": ".py",
   "mimetype": "text/x-python",
   "name": "python",
   "nbconvert_exporter": "python",
   "pygments_lexer": "ipython3",
   "version": "3.9.1"
  }
 },
 "nbformat": 4,
 "nbformat_minor": 5
}
